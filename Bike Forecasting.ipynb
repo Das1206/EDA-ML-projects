{
 "cells": [
  {
   "cell_type": "code",
   "execution_count": 1,
   "id": "d999d1a9",
   "metadata": {},
   "outputs": [],
   "source": [
    "import dask.dataframe as dd\n",
    "import pandas as pd\n",
    "import numpy as np\n",
    "import seaborn as sns\n",
    "import matplotlib.pyplot as plt"
   ]
  },
  {
   "cell_type": "code",
   "execution_count": 2,
   "id": "1c7c98d9",
   "metadata": {},
   "outputs": [
    {
     "data": {
      "text/html": [
       "<div><strong>Dask DataFrame Structure:</strong></div>\n",
       "<div>\n",
       "<style scoped>\n",
       "    .dataframe tbody tr th:only-of-type {\n",
       "        vertical-align: middle;\n",
       "    }\n",
       "\n",
       "    .dataframe tbody tr th {\n",
       "        vertical-align: top;\n",
       "    }\n",
       "\n",
       "    .dataframe thead th {\n",
       "        text-align: right;\n",
       "    }\n",
       "</style>\n",
       "<table border=\"1\" class=\"dataframe\">\n",
       "  <thead>\n",
       "    <tr style=\"text-align: right;\">\n",
       "      <th></th>\n",
       "      <th>Trip Duration</th>\n",
       "      <th>Start Time</th>\n",
       "      <th>Stop Time</th>\n",
       "      <th>Start Station ID</th>\n",
       "      <th>Start Station Name</th>\n",
       "      <th>Start Station Latitude</th>\n",
       "      <th>Start Station Longitude</th>\n",
       "      <th>End Station ID</th>\n",
       "      <th>End Station Name</th>\n",
       "      <th>End Station Latitude</th>\n",
       "      <th>End Station Longitude</th>\n",
       "      <th>Bike ID</th>\n",
       "      <th>User Type</th>\n",
       "      <th>Birth Year</th>\n",
       "      <th>Gender</th>\n",
       "    </tr>\n",
       "    <tr>\n",
       "      <th>npartitions=60</th>\n",
       "      <th></th>\n",
       "      <th></th>\n",
       "      <th></th>\n",
       "      <th></th>\n",
       "      <th></th>\n",
       "      <th></th>\n",
       "      <th></th>\n",
       "      <th></th>\n",
       "      <th></th>\n",
       "      <th></th>\n",
       "      <th></th>\n",
       "      <th></th>\n",
       "      <th></th>\n",
       "      <th></th>\n",
       "      <th></th>\n",
       "    </tr>\n",
       "  </thead>\n",
       "  <tbody>\n",
       "    <tr>\n",
       "      <th></th>\n",
       "      <td>float64</td>\n",
       "      <td>object</td>\n",
       "      <td>object</td>\n",
       "      <td>float64</td>\n",
       "      <td>object</td>\n",
       "      <td>float64</td>\n",
       "      <td>float64</td>\n",
       "      <td>float64</td>\n",
       "      <td>object</td>\n",
       "      <td>float64</td>\n",
       "      <td>float64</td>\n",
       "      <td>float64</td>\n",
       "      <td>object</td>\n",
       "      <td>float64</td>\n",
       "      <td>float64</td>\n",
       "    </tr>\n",
       "    <tr>\n",
       "      <th></th>\n",
       "      <td>...</td>\n",
       "      <td>...</td>\n",
       "      <td>...</td>\n",
       "      <td>...</td>\n",
       "      <td>...</td>\n",
       "      <td>...</td>\n",
       "      <td>...</td>\n",
       "      <td>...</td>\n",
       "      <td>...</td>\n",
       "      <td>...</td>\n",
       "      <td>...</td>\n",
       "      <td>...</td>\n",
       "      <td>...</td>\n",
       "      <td>...</td>\n",
       "      <td>...</td>\n",
       "    </tr>\n",
       "    <tr>\n",
       "      <th>...</th>\n",
       "      <td>...</td>\n",
       "      <td>...</td>\n",
       "      <td>...</td>\n",
       "      <td>...</td>\n",
       "      <td>...</td>\n",
       "      <td>...</td>\n",
       "      <td>...</td>\n",
       "      <td>...</td>\n",
       "      <td>...</td>\n",
       "      <td>...</td>\n",
       "      <td>...</td>\n",
       "      <td>...</td>\n",
       "      <td>...</td>\n",
       "      <td>...</td>\n",
       "      <td>...</td>\n",
       "    </tr>\n",
       "    <tr>\n",
       "      <th></th>\n",
       "      <td>...</td>\n",
       "      <td>...</td>\n",
       "      <td>...</td>\n",
       "      <td>...</td>\n",
       "      <td>...</td>\n",
       "      <td>...</td>\n",
       "      <td>...</td>\n",
       "      <td>...</td>\n",
       "      <td>...</td>\n",
       "      <td>...</td>\n",
       "      <td>...</td>\n",
       "      <td>...</td>\n",
       "      <td>...</td>\n",
       "      <td>...</td>\n",
       "      <td>...</td>\n",
       "    </tr>\n",
       "    <tr>\n",
       "      <th></th>\n",
       "      <td>...</td>\n",
       "      <td>...</td>\n",
       "      <td>...</td>\n",
       "      <td>...</td>\n",
       "      <td>...</td>\n",
       "      <td>...</td>\n",
       "      <td>...</td>\n",
       "      <td>...</td>\n",
       "      <td>...</td>\n",
       "      <td>...</td>\n",
       "      <td>...</td>\n",
       "      <td>...</td>\n",
       "      <td>...</td>\n",
       "      <td>...</td>\n",
       "      <td>...</td>\n",
       "    </tr>\n",
       "  </tbody>\n",
       "</table>\n",
       "</div>\n",
       "<div>Dask Name: read-csv, 60 tasks</div>"
      ],
      "text/plain": [
       "Dask DataFrame Structure:\n",
       "               Trip Duration Start Time Stop Time Start Station ID Start Station Name Start Station Latitude Start Station Longitude End Station ID End Station Name End Station Latitude End Station Longitude  Bike ID User Type Birth Year   Gender\n",
       "npartitions=60                                                                                                                                                                                                                                        \n",
       "                     float64     object    object          float64             object                float64                 float64        float64           object              float64               float64  float64    object    float64  float64\n",
       "                         ...        ...       ...              ...                ...                    ...                     ...            ...              ...                  ...                   ...      ...       ...        ...      ...\n",
       "...                      ...        ...       ...              ...                ...                    ...                     ...            ...              ...                  ...                   ...      ...       ...        ...      ...\n",
       "                         ...        ...       ...              ...                ...                    ...                     ...            ...              ...                  ...                   ...      ...       ...        ...      ...\n",
       "                         ...        ...       ...              ...                ...                    ...                     ...            ...              ...                  ...                   ...      ...       ...        ...      ...\n",
       "Dask Name: read-csv, 60 tasks"
      ]
     },
     "execution_count": 2,
     "metadata": {},
     "output_type": "execute_result"
    }
   ],
   "source": [
    "data = dd.read_csv(r\"D:\\Downloads\\COSC4427_dataset_project\\COSC4427_dataset_project\\*.csv\",parse_dates=True, assume_missing=True)\n",
    "data"
   ]
  },
  {
   "cell_type": "code",
   "execution_count": 3,
   "id": "d5a5b6f4",
   "metadata": {},
   "outputs": [],
   "source": [
    "pdf = data.compute()\n"
   ]
  },
  {
   "cell_type": "code",
   "execution_count": 4,
   "id": "5078e8bd",
   "metadata": {},
   "outputs": [
    {
     "data": {
      "text/plain": [
       "(1638153, 15)"
      ]
     },
     "execution_count": 4,
     "metadata": {},
     "output_type": "execute_result"
    }
   ],
   "source": [
    "pdf.shape"
   ]
  },
  {
   "cell_type": "code",
   "execution_count": 5,
   "id": "7866af88",
   "metadata": {},
   "outputs": [],
   "source": [
    "df = pdf.sample(frac =.60)"
   ]
  },
  {
   "cell_type": "code",
   "execution_count": 6,
   "id": "1d0d8b49",
   "metadata": {},
   "outputs": [
    {
     "data": {
      "text/plain": [
       "(982892, 15)"
      ]
     },
     "execution_count": 6,
     "metadata": {},
     "output_type": "execute_result"
    }
   ],
   "source": [
    "df.shape"
   ]
  },
  {
   "cell_type": "code",
   "execution_count": 7,
   "id": "7e6856bc",
   "metadata": {
    "scrolled": true
   },
   "outputs": [
    {
     "data": {
      "text/html": [
       "<div>\n",
       "<style scoped>\n",
       "    .dataframe tbody tr th:only-of-type {\n",
       "        vertical-align: middle;\n",
       "    }\n",
       "\n",
       "    .dataframe tbody tr th {\n",
       "        vertical-align: top;\n",
       "    }\n",
       "\n",
       "    .dataframe thead th {\n",
       "        text-align: right;\n",
       "    }\n",
       "</style>\n",
       "<table border=\"1\" class=\"dataframe\">\n",
       "  <thead>\n",
       "    <tr style=\"text-align: right;\">\n",
       "      <th></th>\n",
       "      <th>Trip Duration</th>\n",
       "      <th>Start Time</th>\n",
       "      <th>Stop Time</th>\n",
       "      <th>Start Station ID</th>\n",
       "      <th>Start Station Name</th>\n",
       "      <th>Start Station Latitude</th>\n",
       "      <th>Start Station Longitude</th>\n",
       "      <th>End Station ID</th>\n",
       "      <th>End Station Name</th>\n",
       "      <th>End Station Latitude</th>\n",
       "      <th>End Station Longitude</th>\n",
       "      <th>Bike ID</th>\n",
       "      <th>User Type</th>\n",
       "      <th>Birth Year</th>\n",
       "      <th>Gender</th>\n",
       "    </tr>\n",
       "  </thead>\n",
       "  <tbody>\n",
       "    <tr>\n",
       "      <th>13752</th>\n",
       "      <td>228.0</td>\n",
       "      <td>2020-07-12 17:34:54.6500</td>\n",
       "      <td>2020-07-12 17:38:43.2950</td>\n",
       "      <td>3481.0</td>\n",
       "      <td>York St</td>\n",
       "      <td>40.716490</td>\n",
       "      <td>-74.041050</td>\n",
       "      <td>3205.0</td>\n",
       "      <td>JC Medical Center</td>\n",
       "      <td>40.716540</td>\n",
       "      <td>-74.049638</td>\n",
       "      <td>44414.0</td>\n",
       "      <td>Subscriber</td>\n",
       "      <td>1975.0</td>\n",
       "      <td>1.0</td>\n",
       "    </tr>\n",
       "    <tr>\n",
       "      <th>31736</th>\n",
       "      <td>2211.0</td>\n",
       "      <td>2020-07-26 14:31:09.6710</td>\n",
       "      <td>2020-07-26 15:08:01.4770</td>\n",
       "      <td>3681.0</td>\n",
       "      <td>Grand St</td>\n",
       "      <td>40.715178</td>\n",
       "      <td>-74.037683</td>\n",
       "      <td>3639.0</td>\n",
       "      <td>Harborside</td>\n",
       "      <td>40.719252</td>\n",
       "      <td>-74.034234</td>\n",
       "      <td>42613.0</td>\n",
       "      <td>Subscriber</td>\n",
       "      <td>1993.0</td>\n",
       "      <td>2.0</td>\n",
       "    </tr>\n",
       "    <tr>\n",
       "      <th>16038</th>\n",
       "      <td>263.0</td>\n",
       "      <td>2019-11-15 06:49:48.9140</td>\n",
       "      <td>2019-11-15 06:54:12.0490</td>\n",
       "      <td>3678.0</td>\n",
       "      <td>Fairmount Ave</td>\n",
       "      <td>40.725726</td>\n",
       "      <td>-74.071959</td>\n",
       "      <td>3195.0</td>\n",
       "      <td>Sip Ave</td>\n",
       "      <td>40.730897</td>\n",
       "      <td>-74.063913</td>\n",
       "      <td>26156.0</td>\n",
       "      <td>Subscriber</td>\n",
       "      <td>1981.0</td>\n",
       "      <td>1.0</td>\n",
       "    </tr>\n",
       "    <tr>\n",
       "      <th>31145</th>\n",
       "      <td>277.0</td>\n",
       "      <td>2018-08-30 05:55:01.3900</td>\n",
       "      <td>2018-08-30 05:59:38.8990</td>\n",
       "      <td>3269.0</td>\n",
       "      <td>Brunswick &amp; 6th</td>\n",
       "      <td>40.726012</td>\n",
       "      <td>-74.050389</td>\n",
       "      <td>3186.0</td>\n",
       "      <td>Grove St PATH</td>\n",
       "      <td>40.719586</td>\n",
       "      <td>-74.043117</td>\n",
       "      <td>26211.0</td>\n",
       "      <td>Subscriber</td>\n",
       "      <td>1958.0</td>\n",
       "      <td>1.0</td>\n",
       "    </tr>\n",
       "    <tr>\n",
       "      <th>17256</th>\n",
       "      <td>122.0</td>\n",
       "      <td>2018-10-10 16:03:45.9830</td>\n",
       "      <td>2018-10-10 16:05:48.3470</td>\n",
       "      <td>3203.0</td>\n",
       "      <td>Hamilton Park</td>\n",
       "      <td>40.727596</td>\n",
       "      <td>-74.044247</td>\n",
       "      <td>3272.0</td>\n",
       "      <td>Jersey &amp; 3rd</td>\n",
       "      <td>40.723332</td>\n",
       "      <td>-74.045953</td>\n",
       "      <td>26431.0</td>\n",
       "      <td>Subscriber</td>\n",
       "      <td>1994.0</td>\n",
       "      <td>1.0</td>\n",
       "    </tr>\n",
       "  </tbody>\n",
       "</table>\n",
       "</div>"
      ],
      "text/plain": [
       "       Trip Duration                Start Time                 Stop Time  \\\n",
       "13752          228.0  2020-07-12 17:34:54.6500  2020-07-12 17:38:43.2950   \n",
       "31736         2211.0  2020-07-26 14:31:09.6710  2020-07-26 15:08:01.4770   \n",
       "16038          263.0  2019-11-15 06:49:48.9140  2019-11-15 06:54:12.0490   \n",
       "31145          277.0  2018-08-30 05:55:01.3900  2018-08-30 05:59:38.8990   \n",
       "17256          122.0  2018-10-10 16:03:45.9830  2018-10-10 16:05:48.3470   \n",
       "\n",
       "       Start Station ID Start Station Name  Start Station Latitude  \\\n",
       "13752            3481.0            York St               40.716490   \n",
       "31736            3681.0           Grand St               40.715178   \n",
       "16038            3678.0      Fairmount Ave               40.725726   \n",
       "31145            3269.0    Brunswick & 6th               40.726012   \n",
       "17256            3203.0      Hamilton Park               40.727596   \n",
       "\n",
       "       Start Station Longitude  End Station ID   End Station Name  \\\n",
       "13752               -74.041050          3205.0  JC Medical Center   \n",
       "31736               -74.037683          3639.0         Harborside   \n",
       "16038               -74.071959          3195.0            Sip Ave   \n",
       "31145               -74.050389          3186.0      Grove St PATH   \n",
       "17256               -74.044247          3272.0       Jersey & 3rd   \n",
       "\n",
       "       End Station Latitude  End Station Longitude  Bike ID   User Type  \\\n",
       "13752             40.716540             -74.049638  44414.0  Subscriber   \n",
       "31736             40.719252             -74.034234  42613.0  Subscriber   \n",
       "16038             40.730897             -74.063913  26156.0  Subscriber   \n",
       "31145             40.719586             -74.043117  26211.0  Subscriber   \n",
       "17256             40.723332             -74.045953  26431.0  Subscriber   \n",
       "\n",
       "       Birth Year  Gender  \n",
       "13752      1975.0     1.0  \n",
       "31736      1993.0     2.0  \n",
       "16038      1981.0     1.0  \n",
       "31145      1958.0     1.0  \n",
       "17256      1994.0     1.0  "
      ]
     },
     "execution_count": 7,
     "metadata": {},
     "output_type": "execute_result"
    }
   ],
   "source": [
    "df.head()"
   ]
  },
  {
   "cell_type": "code",
   "execution_count": 8,
   "id": "4d4dcb76",
   "metadata": {},
   "outputs": [],
   "source": [
    "cdf = pdf.sample(frac = 0.01)"
   ]
  },
  {
   "cell_type": "code",
   "execution_count": 9,
   "id": "5931b134",
   "metadata": {},
   "outputs": [
    {
     "data": {
      "text/plain": [
       "(16382, 15)"
      ]
     },
     "execution_count": 9,
     "metadata": {},
     "output_type": "execute_result"
    }
   ],
   "source": [
    "cdf.shape"
   ]
  },
  {
   "cell_type": "code",
   "execution_count": 10,
   "id": "cddac1c5",
   "metadata": {},
   "outputs": [],
   "source": [
    "from datetime import datetime"
   ]
  },
  {
   "cell_type": "code",
   "execution_count": 11,
   "id": "6167b76f",
   "metadata": {},
   "outputs": [],
   "source": [
    "cdf['Start Time'] = pd.to_datetime(cdf['Start Time']).dt.date\n",
    "cdf['Stop Time'] = pd.to_datetime(cdf['Stop Time']).dt.date\n"
   ]
  },
  {
   "cell_type": "code",
   "execution_count": 12,
   "id": "de5a6565",
   "metadata": {},
   "outputs": [
    {
     "data": {
      "text/plain": [
       "Index(['Trip Duration', 'Start Time', 'Stop Time', 'Start Station ID',\n",
       "       'Start Station Name', 'Start Station Latitude',\n",
       "       'Start Station Longitude', 'End Station ID', 'End Station Name',\n",
       "       'End Station Latitude', 'End Station Longitude', 'Bike ID', 'User Type',\n",
       "       'Birth Year', 'Gender'],\n",
       "      dtype='object')"
      ]
     },
     "execution_count": 12,
     "metadata": {},
     "output_type": "execute_result"
    }
   ],
   "source": [
    "cdf.columns"
   ]
  },
  {
   "cell_type": "code",
   "execution_count": null,
   "id": "bfaddc95",
   "metadata": {},
   "outputs": [],
   "source": [
    "cdf.head()"
   ]
  },
  {
   "cell_type": "code",
   "execution_count": 13,
   "id": "f9bec023",
   "metadata": {},
   "outputs": [],
   "source": [
    "cdf.drop(labels = ['End Station Latitude', 'End Station Longitude','Start Station ID',\n",
    "                   'Start Station Latitude','Start Station Longitude', 'End Station ID','Bike ID'], axis = 1, inplace = True)"
   ]
  },
  {
   "cell_type": "code",
   "execution_count": 14,
   "id": "46bda9f1",
   "metadata": {},
   "outputs": [
    {
     "data": {
      "text/plain": [
       "Subscriber    14407\n",
       "Customer       1970\n",
       "Name: User Type, dtype: int64"
      ]
     },
     "execution_count": 14,
     "metadata": {},
     "output_type": "execute_result"
    }
   ],
   "source": [
    "cdf['User Type'].value_counts()"
   ]
  },
  {
   "cell_type": "code",
   "execution_count": 15,
   "id": "d0d9b92f",
   "metadata": {},
   "outputs": [],
   "source": [
    "cdf.drop(labels = ['Stop Time'], axis = 1, inplace = True)\n"
   ]
  },
  {
   "cell_type": "code",
   "execution_count": 16,
   "id": "8325a785",
   "metadata": {},
   "outputs": [
    {
     "data": {
      "text/plain": [
       "Index(['Trip Duration', 'Start Time', 'Start Station Name', 'End Station Name',\n",
       "       'User Type', 'Birth Year', 'Gender'],\n",
       "      dtype='object')"
      ]
     },
     "execution_count": 16,
     "metadata": {},
     "output_type": "execute_result"
    }
   ],
   "source": [
    "cdf.columns"
   ]
  },
  {
   "cell_type": "code",
   "execution_count": 17,
   "id": "9a9d5d23",
   "metadata": {},
   "outputs": [],
   "source": [
    "dumdf = pd.get_dummies(cdf, prefix='dum_',columns = ['Gender','User Type','Birth Year','Start Station Name'])"
   ]
  },
  {
   "cell_type": "code",
   "execution_count": 18,
   "id": "6fbbc93c",
   "metadata": {},
   "outputs": [
    {
     "data": {
      "text/html": [
       "<div>\n",
       "<style scoped>\n",
       "    .dataframe tbody tr th:only-of-type {\n",
       "        vertical-align: middle;\n",
       "    }\n",
       "\n",
       "    .dataframe tbody tr th {\n",
       "        vertical-align: top;\n",
       "    }\n",
       "\n",
       "    .dataframe thead th {\n",
       "        text-align: right;\n",
       "    }\n",
       "</style>\n",
       "<table border=\"1\" class=\"dataframe\">\n",
       "  <thead>\n",
       "    <tr style=\"text-align: right;\">\n",
       "      <th></th>\n",
       "      <th>Trip Duration</th>\n",
       "      <th>Start Time</th>\n",
       "      <th>Start Station Name</th>\n",
       "      <th>End Station Name</th>\n",
       "      <th>User Type</th>\n",
       "      <th>Birth Year</th>\n",
       "      <th>Gender</th>\n",
       "    </tr>\n",
       "  </thead>\n",
       "  <tbody>\n",
       "    <tr>\n",
       "      <th>2125</th>\n",
       "      <td>262.0</td>\n",
       "      <td>2018-12-05</td>\n",
       "      <td>Grove St PATH</td>\n",
       "      <td>Hamilton Park</td>\n",
       "      <td>Subscriber</td>\n",
       "      <td>1973.0</td>\n",
       "      <td>1.0</td>\n",
       "    </tr>\n",
       "    <tr>\n",
       "      <th>24280</th>\n",
       "      <td>488.0</td>\n",
       "      <td>2016-08-23</td>\n",
       "      <td>Newport Pkwy</td>\n",
       "      <td>Grove St PATH</td>\n",
       "      <td>Subscriber</td>\n",
       "      <td>1987.0</td>\n",
       "      <td>2.0</td>\n",
       "    </tr>\n",
       "    <tr>\n",
       "      <th>29843</th>\n",
       "      <td>690.0</td>\n",
       "      <td>2019-09-19</td>\n",
       "      <td>Essex Light Rail</td>\n",
       "      <td>Brunswick &amp; 6th</td>\n",
       "      <td>Subscriber</td>\n",
       "      <td>1978.0</td>\n",
       "      <td>1.0</td>\n",
       "    </tr>\n",
       "    <tr>\n",
       "      <th>504</th>\n",
       "      <td>238.0</td>\n",
       "      <td>2018-07-10</td>\n",
       "      <td>Exchange Place</td>\n",
       "      <td>Morris Canal</td>\n",
       "      <td>Subscriber</td>\n",
       "      <td>1990.0</td>\n",
       "      <td>1.0</td>\n",
       "    </tr>\n",
       "    <tr>\n",
       "      <th>3547</th>\n",
       "      <td>453.0</td>\n",
       "      <td>2016-07-06</td>\n",
       "      <td>Newport PATH</td>\n",
       "      <td>Paulus Hook</td>\n",
       "      <td>Subscriber</td>\n",
       "      <td>1977.0</td>\n",
       "      <td>1.0</td>\n",
       "    </tr>\n",
       "    <tr>\n",
       "      <th>...</th>\n",
       "      <td>...</td>\n",
       "      <td>...</td>\n",
       "      <td>...</td>\n",
       "      <td>...</td>\n",
       "      <td>...</td>\n",
       "      <td>...</td>\n",
       "      <td>...</td>\n",
       "    </tr>\n",
       "    <tr>\n",
       "      <th>2630</th>\n",
       "      <td>303.0</td>\n",
       "      <td>2020-12-06</td>\n",
       "      <td>Warren St</td>\n",
       "      <td>Newark Ave</td>\n",
       "      <td>Subscriber</td>\n",
       "      <td>1975.0</td>\n",
       "      <td>1.0</td>\n",
       "    </tr>\n",
       "    <tr>\n",
       "      <th>3308</th>\n",
       "      <td>168.0</td>\n",
       "      <td>2018-09-12</td>\n",
       "      <td>City Hall</td>\n",
       "      <td>Marin Light Rail</td>\n",
       "      <td>Subscriber</td>\n",
       "      <td>1988.0</td>\n",
       "      <td>1.0</td>\n",
       "    </tr>\n",
       "    <tr>\n",
       "      <th>22394</th>\n",
       "      <td>634.0</td>\n",
       "      <td>2020-02-28</td>\n",
       "      <td>Sip Ave</td>\n",
       "      <td>Astor Place</td>\n",
       "      <td>Subscriber</td>\n",
       "      <td>1976.0</td>\n",
       "      <td>1.0</td>\n",
       "    </tr>\n",
       "    <tr>\n",
       "      <th>25639</th>\n",
       "      <td>2722.0</td>\n",
       "      <td>2016-09-23</td>\n",
       "      <td>Warren St</td>\n",
       "      <td>Liberty Light Rail</td>\n",
       "      <td>Subscriber</td>\n",
       "      <td>1981.0</td>\n",
       "      <td>1.0</td>\n",
       "    </tr>\n",
       "    <tr>\n",
       "      <th>37231</th>\n",
       "      <td>906.0</td>\n",
       "      <td>2020-08-27</td>\n",
       "      <td>Dixon Mills</td>\n",
       "      <td>Paulus Hook</td>\n",
       "      <td>Subscriber</td>\n",
       "      <td>1981.0</td>\n",
       "      <td>1.0</td>\n",
       "    </tr>\n",
       "  </tbody>\n",
       "</table>\n",
       "<p>16382 rows × 7 columns</p>\n",
       "</div>"
      ],
      "text/plain": [
       "       Trip Duration  Start Time Start Station Name    End Station Name  \\\n",
       "2125           262.0  2018-12-05      Grove St PATH       Hamilton Park   \n",
       "24280          488.0  2016-08-23       Newport Pkwy       Grove St PATH   \n",
       "29843          690.0  2019-09-19   Essex Light Rail     Brunswick & 6th   \n",
       "504            238.0  2018-07-10     Exchange Place        Morris Canal   \n",
       "3547           453.0  2016-07-06       Newport PATH         Paulus Hook   \n",
       "...              ...         ...                ...                 ...   \n",
       "2630           303.0  2020-12-06          Warren St          Newark Ave   \n",
       "3308           168.0  2018-09-12          City Hall    Marin Light Rail   \n",
       "22394          634.0  2020-02-28            Sip Ave         Astor Place   \n",
       "25639         2722.0  2016-09-23          Warren St  Liberty Light Rail   \n",
       "37231          906.0  2020-08-27        Dixon Mills         Paulus Hook   \n",
       "\n",
       "        User Type  Birth Year  Gender  \n",
       "2125   Subscriber      1973.0     1.0  \n",
       "24280  Subscriber      1987.0     2.0  \n",
       "29843  Subscriber      1978.0     1.0  \n",
       "504    Subscriber      1990.0     1.0  \n",
       "3547   Subscriber      1977.0     1.0  \n",
       "...           ...         ...     ...  \n",
       "2630   Subscriber      1975.0     1.0  \n",
       "3308   Subscriber      1988.0     1.0  \n",
       "22394  Subscriber      1976.0     1.0  \n",
       "25639  Subscriber      1981.0     1.0  \n",
       "37231  Subscriber      1981.0     1.0  \n",
       "\n",
       "[16382 rows x 7 columns]"
      ]
     },
     "execution_count": 18,
     "metadata": {},
     "output_type": "execute_result"
    }
   ],
   "source": [
    "cdf"
   ]
  },
  {
   "cell_type": "code",
   "execution_count": 19,
   "id": "eadbad6c",
   "metadata": {},
   "outputs": [
    {
     "data": {
      "text/plain": [
       "Index(['Trip Duration', 'Start Time', 'End Station Name', 'dum__0.0',\n",
       "       'dum__1.0', 'dum__2.0', 'dum__Customer', 'dum__Subscriber',\n",
       "       'dum__1888.0', 'dum__1900.0',\n",
       "       ...\n",
       "       'dum__Paulus Hook', 'dum__Pershing Field', 'dum__Riverview Park',\n",
       "       'dum__Sip Ave', 'dum__Union St', 'dum__Van Vorst Park',\n",
       "       'dum__Warren St', 'dum__Washington St', 'dum__West Side Light Rail',\n",
       "       'dum__York St'],\n",
       "      dtype='object', length=133)"
      ]
     },
     "execution_count": 19,
     "metadata": {},
     "output_type": "execute_result"
    }
   ],
   "source": [
    "dumdf.columns"
   ]
  },
  {
   "cell_type": "code",
   "execution_count": null,
   "id": "a76c6f8a",
   "metadata": {},
   "outputs": [],
   "source": []
  },
  {
   "cell_type": "code",
   "execution_count": 20,
   "id": "06fba73a",
   "metadata": {
    "scrolled": true
   },
   "outputs": [
    {
     "data": {
      "text/html": [
       "<div>\n",
       "<style scoped>\n",
       "    .dataframe tbody tr th:only-of-type {\n",
       "        vertical-align: middle;\n",
       "    }\n",
       "\n",
       "    .dataframe tbody tr th {\n",
       "        vertical-align: top;\n",
       "    }\n",
       "\n",
       "    .dataframe thead th {\n",
       "        text-align: right;\n",
       "    }\n",
       "</style>\n",
       "<table border=\"1\" class=\"dataframe\">\n",
       "  <thead>\n",
       "    <tr style=\"text-align: right;\">\n",
       "      <th></th>\n",
       "      <th>Trip Duration</th>\n",
       "      <th>Start Time</th>\n",
       "      <th>Start Station Name</th>\n",
       "      <th>End Station Name</th>\n",
       "      <th>User Type</th>\n",
       "      <th>Birth Year</th>\n",
       "      <th>Gender</th>\n",
       "      <th>freq</th>\n",
       "    </tr>\n",
       "  </thead>\n",
       "  <tbody>\n",
       "    <tr>\n",
       "      <th>2125</th>\n",
       "      <td>262.0</td>\n",
       "      <td>2018-12-05</td>\n",
       "      <td>Grove St PATH</td>\n",
       "      <td>Hamilton Park</td>\n",
       "      <td>Subscriber</td>\n",
       "      <td>1973.0</td>\n",
       "      <td>1.0</td>\n",
       "      <td>3957.0</td>\n",
       "    </tr>\n",
       "    <tr>\n",
       "      <th>24280</th>\n",
       "      <td>488.0</td>\n",
       "      <td>2016-08-23</td>\n",
       "      <td>Newport Pkwy</td>\n",
       "      <td>Grove St PATH</td>\n",
       "      <td>Subscriber</td>\n",
       "      <td>1987.0</td>\n",
       "      <td>2.0</td>\n",
       "      <td>5343.0</td>\n",
       "    </tr>\n",
       "    <tr>\n",
       "      <th>29843</th>\n",
       "      <td>690.0</td>\n",
       "      <td>2019-09-19</td>\n",
       "      <td>Essex Light Rail</td>\n",
       "      <td>Brunswick &amp; 6th</td>\n",
       "      <td>Subscriber</td>\n",
       "      <td>1978.0</td>\n",
       "      <td>1.0</td>\n",
       "      <td>12261.0</td>\n",
       "    </tr>\n",
       "    <tr>\n",
       "      <th>504</th>\n",
       "      <td>238.0</td>\n",
       "      <td>2018-07-10</td>\n",
       "      <td>Exchange Place</td>\n",
       "      <td>Morris Canal</td>\n",
       "      <td>Subscriber</td>\n",
       "      <td>1990.0</td>\n",
       "      <td>1.0</td>\n",
       "      <td>6676.0</td>\n",
       "    </tr>\n",
       "    <tr>\n",
       "      <th>3547</th>\n",
       "      <td>453.0</td>\n",
       "      <td>2016-07-06</td>\n",
       "      <td>Newport PATH</td>\n",
       "      <td>Paulus Hook</td>\n",
       "      <td>Subscriber</td>\n",
       "      <td>1977.0</td>\n",
       "      <td>1.0</td>\n",
       "      <td>5344.0</td>\n",
       "    </tr>\n",
       "    <tr>\n",
       "      <th>...</th>\n",
       "      <td>...</td>\n",
       "      <td>...</td>\n",
       "      <td>...</td>\n",
       "      <td>...</td>\n",
       "      <td>...</td>\n",
       "      <td>...</td>\n",
       "      <td>...</td>\n",
       "      <td>...</td>\n",
       "    </tr>\n",
       "    <tr>\n",
       "      <th>2630</th>\n",
       "      <td>303.0</td>\n",
       "      <td>2020-12-06</td>\n",
       "      <td>Warren St</td>\n",
       "      <td>Newark Ave</td>\n",
       "      <td>Subscriber</td>\n",
       "      <td>1975.0</td>\n",
       "      <td>1.0</td>\n",
       "      <td>5951.0</td>\n",
       "    </tr>\n",
       "    <tr>\n",
       "      <th>3308</th>\n",
       "      <td>168.0</td>\n",
       "      <td>2018-09-12</td>\n",
       "      <td>City Hall</td>\n",
       "      <td>Marin Light Rail</td>\n",
       "      <td>Subscriber</td>\n",
       "      <td>1988.0</td>\n",
       "      <td>1.0</td>\n",
       "      <td>2908.0</td>\n",
       "    </tr>\n",
       "    <tr>\n",
       "      <th>22394</th>\n",
       "      <td>634.0</td>\n",
       "      <td>2020-02-28</td>\n",
       "      <td>Sip Ave</td>\n",
       "      <td>Astor Place</td>\n",
       "      <td>Subscriber</td>\n",
       "      <td>1976.0</td>\n",
       "      <td>1.0</td>\n",
       "      <td>3885.0</td>\n",
       "    </tr>\n",
       "    <tr>\n",
       "      <th>25639</th>\n",
       "      <td>2722.0</td>\n",
       "      <td>2016-09-23</td>\n",
       "      <td>Warren St</td>\n",
       "      <td>Liberty Light Rail</td>\n",
       "      <td>Subscriber</td>\n",
       "      <td>1981.0</td>\n",
       "      <td>1.0</td>\n",
       "      <td>8234.0</td>\n",
       "    </tr>\n",
       "    <tr>\n",
       "      <th>37231</th>\n",
       "      <td>906.0</td>\n",
       "      <td>2020-08-27</td>\n",
       "      <td>Dixon Mills</td>\n",
       "      <td>Paulus Hook</td>\n",
       "      <td>Subscriber</td>\n",
       "      <td>1981.0</td>\n",
       "      <td>1.0</td>\n",
       "      <td>33904.0</td>\n",
       "    </tr>\n",
       "  </tbody>\n",
       "</table>\n",
       "<p>16382 rows × 8 columns</p>\n",
       "</div>"
      ],
      "text/plain": [
       "       Trip Duration  Start Time Start Station Name    End Station Name  \\\n",
       "2125           262.0  2018-12-05      Grove St PATH       Hamilton Park   \n",
       "24280          488.0  2016-08-23       Newport Pkwy       Grove St PATH   \n",
       "29843          690.0  2019-09-19   Essex Light Rail     Brunswick & 6th   \n",
       "504            238.0  2018-07-10     Exchange Place        Morris Canal   \n",
       "3547           453.0  2016-07-06       Newport PATH         Paulus Hook   \n",
       "...              ...         ...                ...                 ...   \n",
       "2630           303.0  2020-12-06          Warren St          Newark Ave   \n",
       "3308           168.0  2018-09-12          City Hall    Marin Light Rail   \n",
       "22394          634.0  2020-02-28            Sip Ave         Astor Place   \n",
       "25639         2722.0  2016-09-23          Warren St  Liberty Light Rail   \n",
       "37231          906.0  2020-08-27        Dixon Mills         Paulus Hook   \n",
       "\n",
       "        User Type  Birth Year  Gender     freq  \n",
       "2125   Subscriber      1973.0     1.0   3957.0  \n",
       "24280  Subscriber      1987.0     2.0   5343.0  \n",
       "29843  Subscriber      1978.0     1.0  12261.0  \n",
       "504    Subscriber      1990.0     1.0   6676.0  \n",
       "3547   Subscriber      1977.0     1.0   5344.0  \n",
       "...           ...         ...     ...      ...  \n",
       "2630   Subscriber      1975.0     1.0   5951.0  \n",
       "3308   Subscriber      1988.0     1.0   2908.0  \n",
       "22394  Subscriber      1976.0     1.0   3885.0  \n",
       "25639  Subscriber      1981.0     1.0   8234.0  \n",
       "37231  Subscriber      1981.0     1.0  33904.0  \n",
       "\n",
       "[16382 rows x 8 columns]"
      ]
     },
     "execution_count": 20,
     "metadata": {},
     "output_type": "execute_result"
    }
   ],
   "source": [
    "cdf['freq'] = cdf.groupby('Start Time')['Trip Duration'].transform('sum')\n",
    "cdf"
   ]
  },
  {
   "cell_type": "code",
   "execution_count": 21,
   "id": "4721dd58",
   "metadata": {},
   "outputs": [
    {
     "data": {
      "text/plain": [
       "Start Time\n",
       "2016-01-01    1\n",
       "2016-01-02    3\n",
       "2016-01-03    1\n",
       "2016-01-05    4\n",
       "2016-01-06    7\n",
       "             ..\n",
       "2020-12-27    3\n",
       "2020-12-28    2\n",
       "2020-12-29    1\n",
       "2020-12-30    2\n",
       "2020-12-31    3\n",
       "Length: 1783, dtype: int64"
      ]
     },
     "execution_count": 21,
     "metadata": {},
     "output_type": "execute_result"
    }
   ],
   "source": [
    "cdf.groupby('Start Time').size()"
   ]
  },
  {
   "cell_type": "code",
   "execution_count": 22,
   "id": "f45056e9",
   "metadata": {},
   "outputs": [
    {
     "data": {
      "text/plain": [
       "38       2016-01-01\n",
       "239      2016-01-02\n",
       "297      2016-01-02\n",
       "247      2016-01-02\n",
       "542      2016-01-03\n",
       "            ...    \n",
       "11161    2020-12-30\n",
       "11340    2020-12-30\n",
       "11683    2020-12-31\n",
       "11572    2020-12-31\n",
       "11487    2020-12-31\n",
       "Name: Start Time, Length: 16382, dtype: object"
      ]
     },
     "execution_count": 22,
     "metadata": {},
     "output_type": "execute_result"
    }
   ],
   "source": [
    "sts = cdf['Start Time'].sort_values()\n",
    "sts"
   ]
  },
  {
   "cell_type": "code",
   "execution_count": 23,
   "id": "e1913a1d",
   "metadata": {},
   "outputs": [],
   "source": [
    "sts = pd.DataFrame(sts)"
   ]
  },
  {
   "cell_type": "code",
   "execution_count": 24,
   "id": "2eb00959",
   "metadata": {},
   "outputs": [
    {
     "data": {
      "text/html": [
       "<div>\n",
       "<style scoped>\n",
       "    .dataframe tbody tr th:only-of-type {\n",
       "        vertical-align: middle;\n",
       "    }\n",
       "\n",
       "    .dataframe tbody tr th {\n",
       "        vertical-align: top;\n",
       "    }\n",
       "\n",
       "    .dataframe thead th {\n",
       "        text-align: right;\n",
       "    }\n",
       "</style>\n",
       "<table border=\"1\" class=\"dataframe\">\n",
       "  <thead>\n",
       "    <tr style=\"text-align: right;\">\n",
       "      <th></th>\n",
       "      <th>Start Time</th>\n",
       "    </tr>\n",
       "  </thead>\n",
       "  <tbody>\n",
       "    <tr>\n",
       "      <th>38</th>\n",
       "      <td>2016-01-01</td>\n",
       "    </tr>\n",
       "    <tr>\n",
       "      <th>239</th>\n",
       "      <td>2016-01-02</td>\n",
       "    </tr>\n",
       "    <tr>\n",
       "      <th>297</th>\n",
       "      <td>2016-01-02</td>\n",
       "    </tr>\n",
       "    <tr>\n",
       "      <th>247</th>\n",
       "      <td>2016-01-02</td>\n",
       "    </tr>\n",
       "    <tr>\n",
       "      <th>542</th>\n",
       "      <td>2016-01-03</td>\n",
       "    </tr>\n",
       "    <tr>\n",
       "      <th>...</th>\n",
       "      <td>...</td>\n",
       "    </tr>\n",
       "    <tr>\n",
       "      <th>11161</th>\n",
       "      <td>2020-12-30</td>\n",
       "    </tr>\n",
       "    <tr>\n",
       "      <th>11340</th>\n",
       "      <td>2020-12-30</td>\n",
       "    </tr>\n",
       "    <tr>\n",
       "      <th>11683</th>\n",
       "      <td>2020-12-31</td>\n",
       "    </tr>\n",
       "    <tr>\n",
       "      <th>11572</th>\n",
       "      <td>2020-12-31</td>\n",
       "    </tr>\n",
       "    <tr>\n",
       "      <th>11487</th>\n",
       "      <td>2020-12-31</td>\n",
       "    </tr>\n",
       "  </tbody>\n",
       "</table>\n",
       "<p>16382 rows × 1 columns</p>\n",
       "</div>"
      ],
      "text/plain": [
       "       Start Time\n",
       "38     2016-01-01\n",
       "239    2016-01-02\n",
       "297    2016-01-02\n",
       "247    2016-01-02\n",
       "542    2016-01-03\n",
       "...           ...\n",
       "11161  2020-12-30\n",
       "11340  2020-12-30\n",
       "11683  2020-12-31\n",
       "11572  2020-12-31\n",
       "11487  2020-12-31\n",
       "\n",
       "[16382 rows x 1 columns]"
      ]
     },
     "execution_count": 24,
     "metadata": {},
     "output_type": "execute_result"
    }
   ],
   "source": [
    "sts"
   ]
  },
  {
   "cell_type": "code",
   "execution_count": 25,
   "id": "a264619a",
   "metadata": {},
   "outputs": [
    {
     "ename": "ModuleNotFoundError",
     "evalue": "No module named 'pandas.tools'",
     "output_type": "error",
     "traceback": [
      "\u001b[1;31m---------------------------------------------------------------------------\u001b[0m",
      "\u001b[1;31mModuleNotFoundError\u001b[0m                       Traceback (most recent call last)",
      "\u001b[1;32m<ipython-input-25-c37c97db4475>\u001b[0m in \u001b[0;36m<module>\u001b[1;34m\u001b[0m\n\u001b[1;32m----> 1\u001b[1;33m \u001b[1;32mfrom\u001b[0m \u001b[0mpandas\u001b[0m\u001b[1;33m.\u001b[0m\u001b[0mtools\u001b[0m\u001b[1;33m.\u001b[0m\u001b[0mplotting\u001b[0m \u001b[1;32mimport\u001b[0m \u001b[0mautocorrelation_plot\u001b[0m\u001b[1;33m\u001b[0m\u001b[1;33m\u001b[0m\u001b[0m\n\u001b[0m\u001b[0;32m      2\u001b[0m \u001b[0mautocorrelation_plot\u001b[0m\u001b[1;33m(\u001b[0m\u001b[0mtdf\u001b[0m\u001b[1;33m[\u001b[0m\u001b[1;34m'frq'\u001b[0m\u001b[1;33m]\u001b[0m\u001b[1;33m)\u001b[0m\u001b[1;33m\u001b[0m\u001b[1;33m\u001b[0m\u001b[0m\n\u001b[0;32m      3\u001b[0m \u001b[0mplt\u001b[0m\u001b[1;33m.\u001b[0m\u001b[0mshow\u001b[0m\u001b[1;33m(\u001b[0m\u001b[1;33m)\u001b[0m\u001b[1;33m\u001b[0m\u001b[1;33m\u001b[0m\u001b[0m\n",
      "\u001b[1;31mModuleNotFoundError\u001b[0m: No module named 'pandas.tools'"
     ]
    }
   ],
   "source": [
    "from pandas.tools.plotting import autocorrelation_plot\n",
    "autocorrelation_plot(tdf['frq'])\n",
    "plt.show()"
   ]
  },
  {
   "cell_type": "code",
   "execution_count": 26,
   "id": "becf2a1a",
   "metadata": {},
   "outputs": [
    {
     "ename": "ValueError",
     "evalue": "Shape of passed values is (23630, 2), indices imply (16382, 2)",
     "output_type": "error",
     "traceback": [
      "\u001b[1;31m---------------------------------------------------------------------------\u001b[0m",
      "\u001b[1;31mValueError\u001b[0m                                Traceback (most recent call last)",
      "\u001b[1;32m<ipython-input-26-87683b1222d4>\u001b[0m in \u001b[0;36m<module>\u001b[1;34m\u001b[0m\n\u001b[0;32m      1\u001b[0m \u001b[1;31m#1 ==> time series forecasting for trip duration\u001b[0m\u001b[1;33m\u001b[0m\u001b[1;33m\u001b[0m\u001b[1;33m\u001b[0m\u001b[0m\n\u001b[1;32m----> 2\u001b[1;33m \u001b[0mtdf\u001b[0m \u001b[1;33m=\u001b[0m \u001b[0mpd\u001b[0m\u001b[1;33m.\u001b[0m\u001b[0mconcat\u001b[0m\u001b[1;33m(\u001b[0m\u001b[0mobjs\u001b[0m \u001b[1;33m=\u001b[0m\u001b[1;33m[\u001b[0m\u001b[0mcdf\u001b[0m\u001b[1;33m[\u001b[0m\u001b[1;34m'freq'\u001b[0m\u001b[1;33m]\u001b[0m\u001b[1;33m,\u001b[0m\u001b[0msts\u001b[0m\u001b[1;33m]\u001b[0m\u001b[1;33m,\u001b[0m \u001b[0maxis\u001b[0m \u001b[1;33m=\u001b[0m \u001b[1;36m1\u001b[0m\u001b[1;33m)\u001b[0m\u001b[1;33m\u001b[0m\u001b[1;33m\u001b[0m\u001b[0m\n\u001b[0m",
      "\u001b[1;32m~\\anaconda3\\lib\\site-packages\\pandas\\core\\reshape\\concat.py\u001b[0m in \u001b[0;36mconcat\u001b[1;34m(objs, axis, join, ignore_index, keys, levels, names, verify_integrity, sort, copy)\u001b[0m\n\u001b[0;32m    282\u001b[0m     )\n\u001b[0;32m    283\u001b[0m \u001b[1;33m\u001b[0m\u001b[0m\n\u001b[1;32m--> 284\u001b[1;33m     \u001b[1;32mreturn\u001b[0m \u001b[0mop\u001b[0m\u001b[1;33m.\u001b[0m\u001b[0mget_result\u001b[0m\u001b[1;33m(\u001b[0m\u001b[1;33m)\u001b[0m\u001b[1;33m\u001b[0m\u001b[1;33m\u001b[0m\u001b[0m\n\u001b[0m\u001b[0;32m    285\u001b[0m \u001b[1;33m\u001b[0m\u001b[0m\n\u001b[0;32m    286\u001b[0m \u001b[1;33m\u001b[0m\u001b[0m\n",
      "\u001b[1;32m~\\anaconda3\\lib\\site-packages\\pandas\\core\\reshape\\concat.py\u001b[0m in \u001b[0;36mget_result\u001b[1;34m(self)\u001b[0m\n\u001b[0;32m    494\u001b[0m                 \u001b[0mmgrs_indexers\u001b[0m\u001b[1;33m.\u001b[0m\u001b[0mappend\u001b[0m\u001b[1;33m(\u001b[0m\u001b[1;33m(\u001b[0m\u001b[0mobj\u001b[0m\u001b[1;33m.\u001b[0m\u001b[0m_data\u001b[0m\u001b[1;33m,\u001b[0m \u001b[0mindexers\u001b[0m\u001b[1;33m)\u001b[0m\u001b[1;33m)\u001b[0m\u001b[1;33m\u001b[0m\u001b[1;33m\u001b[0m\u001b[0m\n\u001b[0;32m    495\u001b[0m \u001b[1;33m\u001b[0m\u001b[0m\n\u001b[1;32m--> 496\u001b[1;33m             new_data = concatenate_block_managers(\n\u001b[0m\u001b[0;32m    497\u001b[0m                 \u001b[0mmgrs_indexers\u001b[0m\u001b[1;33m,\u001b[0m \u001b[0mself\u001b[0m\u001b[1;33m.\u001b[0m\u001b[0mnew_axes\u001b[0m\u001b[1;33m,\u001b[0m \u001b[0mconcat_axis\u001b[0m\u001b[1;33m=\u001b[0m\u001b[0mself\u001b[0m\u001b[1;33m.\u001b[0m\u001b[0maxis\u001b[0m\u001b[1;33m,\u001b[0m \u001b[0mcopy\u001b[0m\u001b[1;33m=\u001b[0m\u001b[0mself\u001b[0m\u001b[1;33m.\u001b[0m\u001b[0mcopy\u001b[0m\u001b[1;33m\u001b[0m\u001b[1;33m\u001b[0m\u001b[0m\n\u001b[0;32m    498\u001b[0m             )\n",
      "\u001b[1;32m~\\anaconda3\\lib\\site-packages\\pandas\\core\\internals\\managers.py\u001b[0m in \u001b[0;36mconcatenate_block_managers\u001b[1;34m(mgrs_indexers, axes, concat_axis, copy)\u001b[0m\n\u001b[0;32m   2025\u001b[0m         \u001b[0mblocks\u001b[0m\u001b[1;33m.\u001b[0m\u001b[0mappend\u001b[0m\u001b[1;33m(\u001b[0m\u001b[0mb\u001b[0m\u001b[1;33m)\u001b[0m\u001b[1;33m\u001b[0m\u001b[1;33m\u001b[0m\u001b[0m\n\u001b[0;32m   2026\u001b[0m \u001b[1;33m\u001b[0m\u001b[0m\n\u001b[1;32m-> 2027\u001b[1;33m     \u001b[1;32mreturn\u001b[0m \u001b[0mBlockManager\u001b[0m\u001b[1;33m(\u001b[0m\u001b[0mblocks\u001b[0m\u001b[1;33m,\u001b[0m \u001b[0maxes\u001b[0m\u001b[1;33m)\u001b[0m\u001b[1;33m\u001b[0m\u001b[1;33m\u001b[0m\u001b[0m\n\u001b[0m",
      "\u001b[1;32m~\\anaconda3\\lib\\site-packages\\pandas\\core\\internals\\managers.py\u001b[0m in \u001b[0;36m__init__\u001b[1;34m(self, blocks, axes, do_integrity_check)\u001b[0m\n\u001b[0;32m    137\u001b[0m \u001b[1;33m\u001b[0m\u001b[0m\n\u001b[0;32m    138\u001b[0m         \u001b[1;32mif\u001b[0m \u001b[0mdo_integrity_check\u001b[0m\u001b[1;33m:\u001b[0m\u001b[1;33m\u001b[0m\u001b[1;33m\u001b[0m\u001b[0m\n\u001b[1;32m--> 139\u001b[1;33m             \u001b[0mself\u001b[0m\u001b[1;33m.\u001b[0m\u001b[0m_verify_integrity\u001b[0m\u001b[1;33m(\u001b[0m\u001b[1;33m)\u001b[0m\u001b[1;33m\u001b[0m\u001b[1;33m\u001b[0m\u001b[0m\n\u001b[0m\u001b[0;32m    140\u001b[0m \u001b[1;33m\u001b[0m\u001b[0m\n\u001b[0;32m    141\u001b[0m         \u001b[0mself\u001b[0m\u001b[1;33m.\u001b[0m\u001b[0m_consolidate_check\u001b[0m\u001b[1;33m(\u001b[0m\u001b[1;33m)\u001b[0m\u001b[1;33m\u001b[0m\u001b[1;33m\u001b[0m\u001b[0m\n",
      "\u001b[1;32m~\\anaconda3\\lib\\site-packages\\pandas\\core\\internals\\managers.py\u001b[0m in \u001b[0;36m_verify_integrity\u001b[1;34m(self)\u001b[0m\n\u001b[0;32m    332\u001b[0m         \u001b[1;32mfor\u001b[0m \u001b[0mblock\u001b[0m \u001b[1;32min\u001b[0m \u001b[0mself\u001b[0m\u001b[1;33m.\u001b[0m\u001b[0mblocks\u001b[0m\u001b[1;33m:\u001b[0m\u001b[1;33m\u001b[0m\u001b[1;33m\u001b[0m\u001b[0m\n\u001b[0;32m    333\u001b[0m             \u001b[1;32mif\u001b[0m \u001b[0mblock\u001b[0m\u001b[1;33m.\u001b[0m\u001b[0m_verify_integrity\u001b[0m \u001b[1;32mand\u001b[0m \u001b[0mblock\u001b[0m\u001b[1;33m.\u001b[0m\u001b[0mshape\u001b[0m\u001b[1;33m[\u001b[0m\u001b[1;36m1\u001b[0m\u001b[1;33m:\u001b[0m\u001b[1;33m]\u001b[0m \u001b[1;33m!=\u001b[0m \u001b[0mmgr_shape\u001b[0m\u001b[1;33m[\u001b[0m\u001b[1;36m1\u001b[0m\u001b[1;33m:\u001b[0m\u001b[1;33m]\u001b[0m\u001b[1;33m:\u001b[0m\u001b[1;33m\u001b[0m\u001b[1;33m\u001b[0m\u001b[0m\n\u001b[1;32m--> 334\u001b[1;33m                 \u001b[0mconstruction_error\u001b[0m\u001b[1;33m(\u001b[0m\u001b[0mtot_items\u001b[0m\u001b[1;33m,\u001b[0m \u001b[0mblock\u001b[0m\u001b[1;33m.\u001b[0m\u001b[0mshape\u001b[0m\u001b[1;33m[\u001b[0m\u001b[1;36m1\u001b[0m\u001b[1;33m:\u001b[0m\u001b[1;33m]\u001b[0m\u001b[1;33m,\u001b[0m \u001b[0mself\u001b[0m\u001b[1;33m.\u001b[0m\u001b[0maxes\u001b[0m\u001b[1;33m)\u001b[0m\u001b[1;33m\u001b[0m\u001b[1;33m\u001b[0m\u001b[0m\n\u001b[0m\u001b[0;32m    335\u001b[0m         \u001b[1;32mif\u001b[0m \u001b[0mlen\u001b[0m\u001b[1;33m(\u001b[0m\u001b[0mself\u001b[0m\u001b[1;33m.\u001b[0m\u001b[0mitems\u001b[0m\u001b[1;33m)\u001b[0m \u001b[1;33m!=\u001b[0m \u001b[0mtot_items\u001b[0m\u001b[1;33m:\u001b[0m\u001b[1;33m\u001b[0m\u001b[1;33m\u001b[0m\u001b[0m\n\u001b[0;32m    336\u001b[0m             raise AssertionError(\n",
      "\u001b[1;32m~\\anaconda3\\lib\\site-packages\\pandas\\core\\internals\\managers.py\u001b[0m in \u001b[0;36mconstruction_error\u001b[1;34m(tot_items, block_shape, axes, e)\u001b[0m\n\u001b[0;32m   1692\u001b[0m     \u001b[1;32mif\u001b[0m \u001b[0mblock_shape\u001b[0m\u001b[1;33m[\u001b[0m\u001b[1;36m0\u001b[0m\u001b[1;33m]\u001b[0m \u001b[1;33m==\u001b[0m \u001b[1;36m0\u001b[0m\u001b[1;33m:\u001b[0m\u001b[1;33m\u001b[0m\u001b[1;33m\u001b[0m\u001b[0m\n\u001b[0;32m   1693\u001b[0m         \u001b[1;32mraise\u001b[0m \u001b[0mValueError\u001b[0m\u001b[1;33m(\u001b[0m\u001b[1;34m\"Empty data passed with indices specified.\"\u001b[0m\u001b[1;33m)\u001b[0m\u001b[1;33m\u001b[0m\u001b[1;33m\u001b[0m\u001b[0m\n\u001b[1;32m-> 1694\u001b[1;33m     \u001b[1;32mraise\u001b[0m \u001b[0mValueError\u001b[0m\u001b[1;33m(\u001b[0m\u001b[1;34mf\"Shape of passed values is {passed}, indices imply {implied}\"\u001b[0m\u001b[1;33m)\u001b[0m\u001b[1;33m\u001b[0m\u001b[1;33m\u001b[0m\u001b[0m\n\u001b[0m\u001b[0;32m   1695\u001b[0m \u001b[1;33m\u001b[0m\u001b[0m\n\u001b[0;32m   1696\u001b[0m \u001b[1;33m\u001b[0m\u001b[0m\n",
      "\u001b[1;31mValueError\u001b[0m: Shape of passed values is (23630, 2), indices imply (16382, 2)"
     ]
    }
   ],
   "source": [
    "#1 ==> time series forecasting for trip duration \n",
    "tdf = pd.concat(objs =[cdf['freq'],sts], axis = 1)"
   ]
  },
  {
   "cell_type": "code",
   "execution_count": null,
   "id": "1382d676",
   "metadata": {},
   "outputs": [],
   "source": [
    "tdf.dtypes"
   ]
  },
  {
   "cell_type": "code",
   "execution_count": null,
   "id": "bda80f24",
   "metadata": {},
   "outputs": [],
   "source": [
    "tdf['Start Time']=pd.to_datetime(tdf['Start Time'])"
   ]
  },
  {
   "cell_type": "code",
   "execution_count": null,
   "id": "60059628",
   "metadata": {},
   "outputs": [],
   "source": [
    "tdf.set_index('Start Time',inplace=True)"
   ]
  },
  {
   "cell_type": "code",
   "execution_count": null,
   "id": "b49e7f6c",
   "metadata": {},
   "outputs": [],
   "source": [
    "tdf"
   ]
  },
  {
   "cell_type": "code",
   "execution_count": null,
   "id": "9533b923",
   "metadata": {},
   "outputs": [],
   "source": [
    "def outlier_cap(x):\n",
    "    x=x.clip(lower=x.quantile(0.01))\n",
    "    x=x.clip(upper=x.quantile(0.99))\n",
    "    return(x)"
   ]
  },
  {
   "cell_type": "code",
   "execution_count": null,
   "id": "c4cf1991",
   "metadata": {},
   "outputs": [],
   "source": [
    "tdf=tdf.apply(lambda x : outlier_cap(x))"
   ]
  },
  {
   "cell_type": "code",
   "execution_count": null,
   "id": "4917aa1d",
   "metadata": {},
   "outputs": [],
   "source": [
    "tdf.plot()"
   ]
  },
  {
   "cell_type": "code",
   "execution_count": null,
   "id": "0404733e",
   "metadata": {},
   "outputs": [],
   "source": [
    "from statsmodels.tsa.stattools import adfuller"
   ]
  },
  {
   "cell_type": "code",
   "execution_count": null,
   "id": "ec49f8e1",
   "metadata": {},
   "outputs": [],
   "source": [
    "test_result=adfuller(tdf['freq'])"
   ]
  },
  {
   "cell_type": "code",
   "execution_count": null,
   "id": "536f409c",
   "metadata": {},
   "outputs": [],
   "source": [
    "def adfuller_test(sales):\n",
    "    result=adfuller(sales)\n",
    "    labels = ['ADF Test Statistic','p-value','#Lags Used','Number of Observations Used']\n",
    "    for value,label in zip(result,labels):\n",
    "        print(label+' : '+str(value) )\n",
    "    if result[1] <= 0.05:\n",
    "        print(\"strong evidence against the null hypothesis(Ho), reject the null hypothesis. Data has no unit root and is stationary\")\n",
    "    else:\n",
    "        print(\"weak evidence against null hypothesis, time series has a unit root, indicating it is non-stationary \")\n",
    "    "
   ]
  },
  {
   "cell_type": "code",
   "execution_count": null,
   "id": "6f2805a8",
   "metadata": {},
   "outputs": [],
   "source": [
    "adfuller_test(tdf['freq'])"
   ]
  },
  {
   "cell_type": "code",
   "execution_count": null,
   "id": "3cfc6b1a",
   "metadata": {},
   "outputs": [],
   "source": [
    "tdf['Trip First Difference'] = tdf['freq'] - tdf['freq'].shift(1)"
   ]
  },
  {
   "cell_type": "code",
   "execution_count": null,
   "id": "6a671515",
   "metadata": {},
   "outputs": [],
   "source": [
    "tdf['Seasonal First Difference'] = tdf['freq'] - tdf['freq'].shift(12)"
   ]
  },
  {
   "cell_type": "code",
   "execution_count": null,
   "id": "91477072",
   "metadata": {},
   "outputs": [],
   "source": [
    "tdf"
   ]
  },
  {
   "cell_type": "code",
   "execution_count": null,
   "id": "e4d7ae49",
   "metadata": {},
   "outputs": [],
   "source": [
    "from statsmodels.graphics.tsaplots import plot_acf,plot_pacf"
   ]
  },
  {
   "cell_type": "code",
   "execution_count": null,
   "id": "e499a100",
   "metadata": {},
   "outputs": [],
   "source": [
    "import statsmodels.api as sm"
   ]
  },
  {
   "cell_type": "code",
   "execution_count": null,
   "id": "902578af",
   "metadata": {},
   "outputs": [],
   "source": [
    "fig = plt.figure(figsize=(12,8))\n",
    "ax1 = fig.add_subplot(211)\n",
    "fig = sm.graphics.tsa.plot_acf(tdf['Seasonal First Difference'].iloc[13:],lags=40,ax=ax1)\n",
    "ax2 = fig.add_subplot(212)\n",
    "fig = sm.graphics.tsa.plot_pacf(tdf['Seasonal First Difference'].iloc[13:],lags=40,ax=ax2)"
   ]
  },
  {
   "cell_type": "code",
   "execution_count": null,
   "id": "40528cab",
   "metadata": {},
   "outputs": [],
   "source": [
    "from statsmodels.tsa.arima_model import ARIMA"
   ]
  },
  {
   "cell_type": "code",
   "execution_count": null,
   "id": "e3e43469",
   "metadata": {},
   "outputs": [],
   "source": [
    "model=ARIMA(tdf['freq'],order=(1,1,1))\n",
    "model_fit=model.fit()"
   ]
  },
  {
   "cell_type": "code",
   "execution_count": null,
   "id": "e911aaee",
   "metadata": {},
   "outputs": [],
   "source": [
    "model_fit.summary()"
   ]
  },
  {
   "cell_type": "code",
   "execution_count": null,
   "id": "2b21437e",
   "metadata": {},
   "outputs": [],
   "source": [
    "tdf['forecast']=model_fit.predict(start=90,end=103,dynamic=True)\n",
    "tdf[['freq','forecast']].plot(figsize=(12,8))"
   ]
  },
  {
   "cell_type": "code",
   "execution_count": null,
   "id": "b86a75d8",
   "metadata": {
    "scrolled": true
   },
   "outputs": [],
   "source": [
    "model=sm.tsa.statespace.SARIMAX(tdf['freq'],order=(1, 1, 1),seasonal_order=(1,1,1,12))\n",
    "results=model.fit()"
   ]
  },
  {
   "cell_type": "code",
   "execution_count": null,
   "id": "9aeeb823",
   "metadata": {},
   "outputs": [],
   "source": [
    "df['forecast']=results.predict(start=90,end=103,dynamic=True)\n",
    "df[['Sales','forecast']].plot(figsize=(12,8))"
   ]
  },
  {
   "cell_type": "code",
   "execution_count": null,
   "id": "9f0f2884",
   "metadata": {},
   "outputs": [],
   "source": []
  },
  {
   "cell_type": "code",
   "execution_count": null,
   "id": "9f092623",
   "metadata": {},
   "outputs": [],
   "source": []
  },
  {
   "cell_type": "code",
   "execution_count": null,
   "id": "97e29003",
   "metadata": {},
   "outputs": [],
   "source": []
  }
 ],
 "metadata": {
  "kernelspec": {
   "display_name": "Python 3",
   "language": "python",
   "name": "python3"
  },
  "language_info": {
   "codemirror_mode": {
    "name": "ipython",
    "version": 3
   },
   "file_extension": ".py",
   "mimetype": "text/x-python",
   "name": "python",
   "nbconvert_exporter": "python",
   "pygments_lexer": "ipython3",
   "version": "3.8.10"
  }
 },
 "nbformat": 4,
 "nbformat_minor": 5
}
